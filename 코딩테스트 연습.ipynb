{
 "cells": [
  {
   "cell_type": "markdown",
   "id": "5a6ac43b",
   "metadata": {
    "ExecuteTime": {
     "end_time": "2022-08-29T07:29:13.906899Z",
     "start_time": "2022-08-29T07:29:13.903884Z"
    }
   },
   "source": [
    "# 해시"
   ]
  },
  {
   "cell_type": "markdown",
   "id": "873bdd3c",
   "metadata": {},
   "source": [
    "## 특징"
   ]
  },
  {
   "cell_type": "markdown",
   "id": "ff146546",
   "metadata": {},
   "source": [
    "1. 공간을 많이 사용하지만 속도가 매우 빠르다.\n",
    "2. 키에 대한 데이터가 있는지 중복이 있는지 확인이 가능하다.\n",
    "\n",
    "시간복잡도  \n",
    "일반적인 경우 : O(1)  \n",
    "최악의 경우 : O(N)"
   ]
  },
  {
   "cell_type": "markdown",
   "id": "47fd4e05",
   "metadata": {},
   "source": [
    "### 폰켓몬"
   ]
  },
  {
   "cell_type": "code",
   "execution_count": 1,
   "id": "06770bb0",
   "metadata": {
    "ExecuteTime": {
     "end_time": "2022-09-02T11:32:30.434829Z",
     "start_time": "2022-09-02T11:32:30.430716Z"
    }
   },
   "outputs": [],
   "source": [
    "nums = [3,3,3,2,2,2]"
   ]
  },
  {
   "cell_type": "code",
   "execution_count": 2,
   "id": "3846a8fb",
   "metadata": {
    "ExecuteTime": {
     "end_time": "2022-09-02T11:32:30.922242Z",
     "start_time": "2022-09-02T11:32:30.914623Z"
    }
   },
   "outputs": [],
   "source": [
    "def solution(nums):\n",
    "    answer = 0\n",
    "    dic1 = {}\n",
    "    \n",
    "    for i in range(len(nums)):\n",
    "        if nums[i] in dic1:\n",
    "            dic1[nums[i]] += 1\n",
    "        else:\n",
    "            dic1[nums[i]] = 1\n",
    "    \n",
    "    if len(dic1.keys()) < len(nums) / 2:\n",
    "        answer = len(dic1.keys())\n",
    "    else:\n",
    "        answer = len(nums) // 2\n",
    "    \n",
    "    return answer"
   ]
  },
  {
   "cell_type": "code",
   "execution_count": 3,
   "id": "c3eab362",
   "metadata": {
    "ExecuteTime": {
     "end_time": "2022-09-02T11:32:31.615179Z",
     "start_time": "2022-09-02T11:32:31.600273Z"
    },
    "scrolled": true
   },
   "outputs": [
    {
     "data": {
      "text/plain": [
       "2"
      ]
     },
     "execution_count": 3,
     "metadata": {},
     "output_type": "execute_result"
    }
   ],
   "source": [
    "solution(nums)"
   ]
  },
  {
   "cell_type": "markdown",
   "id": "f9f35c60",
   "metadata": {},
   "source": [
    "알게 된 점 : key 값이 나온 갯수를 value로 하는 딕셔너리를 생성하는 법을 알게 되었습니다."
   ]
  },
  {
   "cell_type": "markdown",
   "id": "89cd0c93",
   "metadata": {},
   "source": [
    "### 완주하지 못한 선수"
   ]
  },
  {
   "cell_type": "code",
   "execution_count": 4,
   "id": "04e184bc",
   "metadata": {
    "ExecuteTime": {
     "end_time": "2022-09-02T11:32:33.603109Z",
     "start_time": "2022-09-02T11:32:33.594685Z"
    }
   },
   "outputs": [],
   "source": [
    "def solution(participant, completion):\n",
    "    answer = ''\n",
    "    dic1 = {}\n",
    "    \n",
    "    for i in range(len(participant)):\n",
    "        if participant[i] in dic1:\n",
    "            dic1[participant[i]] += 1\n",
    "        else:\n",
    "            dic1[participant[i]] = 1\n",
    "    \n",
    "    for i in range(len(completion)):\n",
    "        if completion[i] in dic1:\n",
    "            dic1[completion[i]] -= 1\n",
    "        else:\n",
    "            pass\n",
    "    \n",
    "    for key, value in dic1.items():\n",
    "        if value == 1:\n",
    "            answer = key\n",
    "            return answer\n",
    "        else:\n",
    "            pass"
   ]
  },
  {
   "cell_type": "code",
   "execution_count": 5,
   "id": "2c3ca1bd",
   "metadata": {
    "ExecuteTime": {
     "end_time": "2022-09-02T11:32:34.686572Z",
     "start_time": "2022-09-02T11:32:34.680887Z"
    }
   },
   "outputs": [
    {
     "data": {
      "text/plain": [
       "'mislav'"
      ]
     },
     "execution_count": 5,
     "metadata": {},
     "output_type": "execute_result"
    }
   ],
   "source": [
    "solution([\"mislav\", \"stanko\", \"mislav\", \"ana\"],[\"stanko\" , \"ana\", \"mislav\"])"
   ]
  },
  {
   "cell_type": "markdown",
   "id": "78d55583",
   "metadata": {},
   "source": [
    "알게 된 점: value값을 사용해 key값을 찾을 수 있는 방법이 딕셔너리 key, values를 뒤집는 방법도 있다는 것을 알게 되었다."
   ]
  },
  {
   "cell_type": "markdown",
   "id": "6530d3df",
   "metadata": {},
   "source": [
    "### 전화번호 목록"
   ]
  },
  {
   "cell_type": "code",
   "execution_count": 6,
   "id": "7a94f6d4",
   "metadata": {
    "ExecuteTime": {
     "end_time": "2022-09-02T11:32:36.097568Z",
     "start_time": "2022-09-02T11:32:36.092484Z"
    }
   },
   "outputs": [],
   "source": [
    "def solution(phone_book):\n",
    "    phone_book.sort()\n",
    "    for i in range(len(phone_book)-1):\n",
    "        if phone_book[i] == (phone_book[i+1])[:len(phone_book[i])]:\n",
    "            return False\n",
    "        \n",
    "    return True"
   ]
  },
  {
   "cell_type": "code",
   "execution_count": 7,
   "id": "ec8fe2af",
   "metadata": {
    "ExecuteTime": {
     "end_time": "2022-09-02T11:32:36.272579Z",
     "start_time": "2022-09-02T11:32:36.267296Z"
    }
   },
   "outputs": [],
   "source": [
    "phone_book = ['119', '97674223', '1195524421']\n",
    "phone_book.sort()"
   ]
  },
  {
   "cell_type": "code",
   "execution_count": 8,
   "id": "04f45d87",
   "metadata": {
    "ExecuteTime": {
     "end_time": "2022-09-02T11:32:36.449193Z",
     "start_time": "2022-09-02T11:32:36.440883Z"
    }
   },
   "outputs": [
    {
     "data": {
      "text/plain": [
       "False"
      ]
     },
     "execution_count": 8,
     "metadata": {},
     "output_type": "execute_result"
    }
   ],
   "source": [
    "solution(['119', '97674223', '1195524421'])"
   ]
  },
  {
   "cell_type": "markdown",
   "id": "e04e504f",
   "metadata": {},
   "source": [
    "알게 된 점 : X"
   ]
  },
  {
   "cell_type": "markdown",
   "id": "9fbe5fd6",
   "metadata": {
    "ExecuteTime": {
     "end_time": "2022-08-29T09:33:19.272872Z",
     "start_time": "2022-08-29T09:33:19.269972Z"
    }
   },
   "source": [
    "### 위장"
   ]
  },
  {
   "cell_type": "code",
   "execution_count": 9,
   "id": "0b90eda2",
   "metadata": {
    "ExecuteTime": {
     "end_time": "2022-09-02T11:32:37.449248Z",
     "start_time": "2022-09-02T11:32:37.438959Z"
    }
   },
   "outputs": [],
   "source": [
    "def solution(clothes):\n",
    "    answer = 0\n",
    "    dic1 = {}\n",
    "    \n",
    "    for i in range(len(clothes)):\n",
    "        if clothes[i][1] in dic1:\n",
    "            dic1[clothes[i][1]].append(clothes[i][0])\n",
    "        else:\n",
    "            dic1[clothes[i][1]] = [clothes[i][0]]\n",
    "            pass\n",
    "    \n",
    "    answer += 1\n",
    "    \n",
    "    for key in dic1.keys():\n",
    "        answer *= len(dic1[key]) + 1\n",
    "\n",
    "    answer -= 1\n",
    "    return answer"
   ]
  },
  {
   "cell_type": "code",
   "execution_count": 10,
   "id": "08bed500",
   "metadata": {
    "ExecuteTime": {
     "end_time": "2022-09-02T11:32:37.832894Z",
     "start_time": "2022-09-02T11:32:37.826679Z"
    }
   },
   "outputs": [
    {
     "data": {
      "text/plain": [
       "3"
      ]
     },
     "execution_count": 10,
     "metadata": {},
     "output_type": "execute_result"
    }
   ],
   "source": [
    "solution([[\"crow_mask\", \"face\"], [\"blue_sunglasses\", \"face\"], [\"smoky_makeup\", \"face\"]])"
   ]
  },
  {
   "cell_type": "markdown",
   "id": "3df28d5d",
   "metadata": {
    "ExecuteTime": {
     "end_time": "2022-09-02T09:46:45.591465Z",
     "start_time": "2022-09-02T09:46:45.585933Z"
    }
   },
   "source": [
    "알게 된 점 : 딕셔너리 values값에 리스트를 넣을 수 있다는 사실을 알았고, defaultdict을 이용해서 푸는 방법도 알게 되었다."
   ]
  },
  {
   "cell_type": "markdown",
   "id": "cd55f732",
   "metadata": {
    "ExecuteTime": {
     "end_time": "2022-08-30T05:45:14.998992Z",
     "start_time": "2022-08-30T05:45:14.995644Z"
    }
   },
   "source": [
    "### 베스트앨범"
   ]
  },
  {
   "cell_type": "code",
   "execution_count": 11,
   "id": "3bf301ed",
   "metadata": {
    "ExecuteTime": {
     "end_time": "2022-09-02T11:32:38.779849Z",
     "start_time": "2022-09-02T11:32:38.764528Z"
    }
   },
   "outputs": [],
   "source": [
    "def solution(genres, plays):\n",
    "    answer = []\n",
    "    dic1 = {}\n",
    "    dic2 = {}\n",
    "\n",
    "    for i in range(len(genres)):\n",
    "        if genres[i] in dic1:\n",
    "            dic1[genres[i]].append((plays[i], i))\n",
    "            dic2[genres[i]] += plays[i]\n",
    "        else:\n",
    "            dic1[genres[i]] = [(plays[i], i)]\n",
    "            dic2[genres[i]] = plays[i]\n",
    "\n",
    "    rank = sorted(dic2, key=lambda x:dic2[x], reverse=True)\n",
    "\n",
    "    for item in rank:\n",
    "        temp = sorted(dic1[item], key=lambda x:(x[0], x[1]), reverse=True)\n",
    "        for i in range(2):\n",
    "            answer.append(temp[i][1])\n",
    "            if len(dic1[item])<2: break\n",
    "    \n",
    "    return answer"
   ]
  },
  {
   "cell_type": "code",
   "execution_count": 12,
   "id": "2c78f09a",
   "metadata": {
    "ExecuteTime": {
     "end_time": "2022-09-02T11:32:39.180608Z",
     "start_time": "2022-09-02T11:32:39.175456Z"
    }
   },
   "outputs": [],
   "source": [
    "genres = [\"classic\", \"pop\", \"classic\", \"classic\", \"pop\"]\n",
    "plays = [500, 600, 150, 800, 2500]"
   ]
  },
  {
   "cell_type": "code",
   "execution_count": 13,
   "id": "225e60f3",
   "metadata": {
    "ExecuteTime": {
     "end_time": "2022-09-02T11:32:39.629559Z",
     "start_time": "2022-09-02T11:32:39.623856Z"
    }
   },
   "outputs": [
    {
     "data": {
      "text/plain": [
       "[4, 1, 3, 0]"
      ]
     },
     "execution_count": 13,
     "metadata": {},
     "output_type": "execute_result"
    }
   ],
   "source": [
    "solution(genres, plays)"
   ]
  },
  {
   "cell_type": "markdown",
   "id": "bd1db364",
   "metadata": {},
   "source": [
    "알게 된 점 : 딕셔너리를 정렬하고 싶다면 sorted(d.itmes(), key = lambda x: x[1])를 사용한다."
   ]
  }
 ],
 "metadata": {
  "kernelspec": {
   "display_name": "Python 3 (ipykernel)",
   "language": "python",
   "name": "python3"
  },
  "language_info": {
   "codemirror_mode": {
    "name": "ipython",
    "version": 3
   },
   "file_extension": ".py",
   "mimetype": "text/x-python",
   "name": "python",
   "nbconvert_exporter": "python",
   "pygments_lexer": "ipython3",
   "version": "3.9.7"
  },
  "toc": {
   "base_numbering": 1,
   "nav_menu": {},
   "number_sections": false,
   "sideBar": true,
   "skip_h1_title": false,
   "title_cell": "Table of Contents",
   "title_sidebar": "Contents",
   "toc_cell": false,
   "toc_position": {
    "height": "calc(100% - 180px)",
    "left": "10px",
    "top": "150px",
    "width": "165px"
   },
   "toc_section_display": true,
   "toc_window_display": true
  }
 },
 "nbformat": 4,
 "nbformat_minor": 5
}
